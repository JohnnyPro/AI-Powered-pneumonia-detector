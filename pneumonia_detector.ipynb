{
 "cells": [
  {
   "cell_type": "code",
   "execution_count": 9,
   "metadata": {},
   "outputs": [],
   "source": [
    "\n",
    "import numpy as np\n",
    "import seaborn as sns\n",
    "import matplotlib.pyplot as plt\n",
    "import tensorflow as tf\n",
    "from tensorflow import keras\n",
    "from keras.preprocessing.image import ImageDataGenerator, load_img\n",
    "from tensorflow.keras.models import Sequential\n",
    "from keras.layers import Dense, Conv2D , MaxPool2D , Flatten , Dropout , BatchNormalization, Activation\n",
    "from tensorflow.keras.optimizers import Adam\n",
    "from sklearn.model_selection import train_test_split\n",
    "from sklearn.metrics import classification_report,confusion_matrix\n",
    "from pathlib import Path\n",
    "import cv2\n",
    "import os\n",
    "import warnings\n",
    "import pandas as pd\n",
    "from collections import deque\n"
   ]
  },
  {
   "cell_type": "code",
   "execution_count": 10,
   "metadata": {},
   "outputs": [],
   "source": [
    "# hyperparameters\n",
    "batch_size = 32\n",
    "lr = 0.0001\n",
    "imgSize = 150\n",
    "epochs = 10\n",
    "numTrainSamples = 1000  # Change later on\n",
    "numValSamples = 100  # Change later on"
   ]
  },
  {
   "cell_type": "code",
   "execution_count": 11,
   "metadata": {},
   "outputs": [],
   "source": [
    "data_dir = Path(\"./chest_xray_corrected/\")\n",
    "train = data_dir / \"train\"\n",
    "val = data_dir / \"val\"\n",
    "test = data_dir / \"test\"\n",
    "\n",
    "normal = train / \"NORMAL\"\n",
    "pneumonia = train / \"PNEUMONIA\"\n",
    "\n",
    "\n",
    "# normalFreq = sum(1 for _ in normal.glob(\"*.jpeg\"))\n",
    "# pneumoniaFreq = sum(1 for _ in pneumonia.glob(\"*.jpeg\"))\n",
    "\n",
    "# numTrainSamples = normalFreq + pneumoniaFreq\n",
    "\n",
    "\n",
    "# labels = pd.Series([*[0]*normalFreq, *[1]*pneumoniaFreq])\n",
    "\n",
    "# sns.set()\n",
    "# fig, ax = plt.subplots(1, figsize=(10,6))\n",
    "# vc = labels.value_counts(normalize=True)\n",
    "# # labels\n",
    "# count = sns.countplot(x=labels, edgecolor=\"black\", ax=ax)\n",
    "# count.set_title(\"Label Distribution(After generation)\")\n",
    "\n",
    "# plt.savefig(\"output.jpg\")"
   ]
  },
  {
   "cell_type": "code",
   "execution_count": 12,
   "metadata": {},
   "outputs": [
    {
     "name": "stdout",
     "output_type": "stream",
     "text": [
      "Found 624 images belonging to 2 classes.\n",
      "Found 1040 images belonging to 2 classes.\n"
     ]
    }
   ],
   "source": [
    "\n",
    "# Creating an ImageGenerator\n",
    "\n",
    "data_gen = ImageDataGenerator(rescale=1./255,   # Rescale from 0-255 to 0-1\n",
    "                                   rotation_range=30,  # rondomly rotate training iamges by 30\n",
    "                                   width_shift_range=0.1,  # randomly shift images horizontally by 10% of width\n",
    "                                   height_shift_range=0.1,   # randomly shift images horizontally by 10% of height\n",
    "                                   zoom_range=0.2,  # Randomly zoom in/out 20% into image\n",
    "                                   horizontal_flip=True)  # Randomly flip image horizontally\n",
    "\n",
    "\n",
    "test_datagen = ImageDataGenerator(rescale=1./255)\n",
    "\n",
    "training_gen = data_gen.flow_from_directory(train, target_size=(imgSize, imgSize), batch_size=batch_size, class_mode=\"binary\")\n",
    "validation_gen = data_gen.flow_from_directory(val, target_size=(imgSize, imgSize), batch_size=batch_size, class_mode=\"binary\")\n",
    "\n",
    "# # Visualizing the outputs of the generators\n",
    "\n",
    "# fig, axs = plt.subplots(1,4, figsize=(10,3))\n",
    "# fig.suptitle(\"Generated Training Images\")\n",
    "# generated = next(training_gen)\n",
    "# images = generated[0]\n",
    "# for i, ax in enumerate(axs):\n",
    "#     ax.imshow(images[i])\n",
    "#     ax.axis('off')\n",
    "    \n",
    "    \n",
    "    \n"
   ]
  },
  {
   "cell_type": "code",
   "execution_count": null,
   "metadata": {},
   "outputs": [],
   "source": []
  },
  {
   "cell_type": "code",
   "execution_count": 13,
   "metadata": {},
   "outputs": [
    {
     "data": {
      "text/plain": [
       "0    0.38125\n",
       "1    0.61875\n",
       "dtype: float64"
      ]
     },
     "execution_count": 13,
     "metadata": {},
     "output_type": "execute_result"
    },
    {
     "data": {
      "image/png": "[encoded data removed]",
      "text/plain": [
       "<Figure size 1000x600 with 1 Axes>"
      ]
     },
     "metadata": {},
     "output_type": "display_data"
    }
   ],
   "source": [
    "\n",
    "\n",
    "\n",
    "total = pd.Series([0,0])\n",
    "\n",
    "for i in range(5):\n",
    "    generated = next(training_gen)\n",
    "    labels = np.array(generated[1]).astype(int) \n",
    "    total += np.array(pd.Series(labels).value_counts(normalize=True, sort=False).sort_values())\n",
    "    \n",
    "total /= 5\n",
    "sns.set()\n",
    "fig, ax = plt.subplots(1, figsize=(10,6))\n",
    "count = sns.barplot(x=total.index, y=total, edgecolor = \"black\", ax=ax)\n",
    "count.set_title(\"Label Distribution(After Augmentation)\")\n",
    "plt.savefig(\"output-after-augmentation.jpg\")\n",
    "total"
   ]
  },
  {
   "cell_type": "code",
   "execution_count": 14,
   "metadata": {},
   "outputs": [],
   "source": [
    "# Very simple model\n",
    "\n",
    "\n",
    "\n",
    "# class_weights = class_weight.compute_class_weight('balanced', np.unique(train_generator.classes), train_generator.classes)\n",
    "model = Sequential()\n",
    "model.add(Conv2D(32,(3,3),input_shape=(imgSize, imgSize, 3)))\n",
    "model.add(Activation(\"relu\"))\n",
    "model.add(MaxPool2D(pool_size=(2,2)))\n",
    "\n",
    "model.add(Conv2D(32,(3,3)))\n",
    "model.add(Activation(\"relu\"))\n",
    "model.add(MaxPool2D(pool_size=(2,2)))\n",
    "\n",
    "model.add(Conv2D(64,(3,3)))\n",
    "model.add(Activation(\"relu\"))\n",
    "model.add(MaxPool2D(pool_size=(2,2)))\n",
    "\n",
    "model.add(Flatten())\n",
    "model.add(Dense(64))\n",
    "model.add(Activation(\"relu\"))\n",
    "model.add(Dropout(0.5))\n",
    "model.add(Dense(1, activation=\"sigmoid\"))\n",
    "model.compile(optimizer = \"adam\" , loss =tf.losses.BinaryCrossentropy(from_logits=False) , metrics = ['accuracy'])"
   ]
  },
  {
   "cell_type": "code",
   "execution_count": 16,
   "metadata": {},
   "outputs": [
    {
     "name": "stdout",
     "output_type": "stream",
     "text": [
      "Epoch 1/5\n",
      "20/20 [==============================] - 36s 2s/step - loss: 0.6614 - accuracy: 0.6282 - val_loss: 0.6651 - val_accuracy: 0.8019\n",
      "Epoch 2/5\n",
      "20/20 [==============================] - 37s 2s/step - loss: 0.6576 - accuracy: 0.6394 - val_loss: 0.5855 - val_accuracy: 0.7692\n",
      "Epoch 3/5\n",
      "20/20 [==============================] - 37s 2s/step - loss: 0.6134 - accuracy: 0.6731 - val_loss: 0.5267 - val_accuracy: 0.8212\n",
      "Epoch 4/5\n",
      "20/20 [==============================] - 38s 2s/step - loss: 0.5572 - accuracy: 0.7372 - val_loss: 0.5880 - val_accuracy: 0.6471\n",
      "Epoch 5/5\n",
      "20/20 [==============================] - 37s 2s/step - loss: 0.5515 - accuracy: 0.7388 - val_loss: 0.3925 - val_accuracy: 0.8394\n"
     ]
    },
    {
     "data": {
      "text/plain": [
       "<keras.src.callbacks.History at 0x1ba16b1ae10>"
      ]
     },
     "execution_count": 16,
     "metadata": {},
     "output_type": "execute_result"
    }
   ],
   "source": [
    "model.fit(training_gen, validation_data=validation_gen,epochs=5, batch_size=batch_size)"
   ]
  },
  {
   "cell_type": "code",
   "execution_count": null,
   "metadata": {},
   "outputs": [
    {
     "name": "stderr",
     "output_type": "stream",
     "text": [
      "C:\\Users\\PC\\AppData\\Local\\Temp\\ipykernel_15044\\3205061440.py:1: UserWarning: `Model.evaluate_generator` is deprecated and will be removed in a future version. Please use `Model.evaluate`, which supports generators.\n",
      "  model.evaluate_generator(test_datagen)\n"
     ]
    },
    {
     "ename": "ValueError",
     "evalue": "Failed to find data adapter that can handle input: <class 'keras.src.preprocessing.image.ImageDataGenerator'>, <class 'NoneType'>",
     "output_type": "error",
     "traceback": [
      "\u001b[1;31m---------------------------------------------------------------------------\u001b[0m",
      "\u001b[1;31mValueError\u001b[0m                                Traceback (most recent call last)",
      "\u001b[1;32mc:\\School\\4th Year\\Programming For AI\\pneumonia_detector.ipynb Cell 9\u001b[0m line \u001b[0;36m1\n\u001b[1;32m----> <a href='vscode-notebook-cell:/c%3A/School/4th%20Year/Programming%20For%20AI/pneumonia_detector.ipynb#X11sZmlsZQ%3D%3D?line=0'>1</a>\u001b[0m model\u001b[39m.\u001b[39;49mevaluate_generator(test_datagen)\n",
      "File \u001b[1;32mc:\\Python311\\Lib\\site-packages\\keras\\src\\engine\\training.py:2852\u001b[0m, in \u001b[0;36mModel.evaluate_generator\u001b[1;34m(self, generator, steps, callbacks, max_queue_size, workers, use_multiprocessing, verbose)\u001b[0m\n\u001b[0;32m   2844\u001b[0m warnings\u001b[39m.\u001b[39mwarn(\n\u001b[0;32m   2845\u001b[0m     \u001b[39m\"\u001b[39m\u001b[39m`Model.evaluate_generator` is deprecated and \u001b[39m\u001b[39m\"\u001b[39m\n\u001b[0;32m   2846\u001b[0m     \u001b[39m\"\u001b[39m\u001b[39mwill be removed in a future version. \u001b[39m\u001b[39m\"\u001b[39m\n\u001b[0;32m   2847\u001b[0m     \u001b[39m\"\u001b[39m\u001b[39mPlease use `Model.evaluate`, which supports generators.\u001b[39m\u001b[39m\"\u001b[39m,\n\u001b[0;32m   2848\u001b[0m     stacklevel\u001b[39m=\u001b[39m\u001b[39m2\u001b[39m,\n\u001b[0;32m   2849\u001b[0m )\n\u001b[0;32m   2850\u001b[0m \u001b[39mself\u001b[39m\u001b[39m.\u001b[39m_check_call_args(\u001b[39m\"\u001b[39m\u001b[39mevaluate_generator\u001b[39m\u001b[39m\"\u001b[39m)\n\u001b[1;32m-> 2852\u001b[0m \u001b[39mreturn\u001b[39;00m \u001b[39mself\u001b[39;49m\u001b[39m.\u001b[39;49mevaluate(\n\u001b[0;32m   2853\u001b[0m     generator,\n\u001b[0;32m   2854\u001b[0m     steps\u001b[39m=\u001b[39;49msteps,\n\u001b[0;32m   2855\u001b[0m     max_queue_size\u001b[39m=\u001b[39;49mmax_queue_size,\n\u001b[0;32m   2856\u001b[0m     workers\u001b[39m=\u001b[39;49mworkers,\n\u001b[0;32m   2857\u001b[0m     use_multiprocessing\u001b[39m=\u001b[39;49muse_multiprocessing,\n\u001b[0;32m   2858\u001b[0m     verbose\u001b[39m=\u001b[39;49mverbose,\n\u001b[0;32m   2859\u001b[0m     callbacks\u001b[39m=\u001b[39;49mcallbacks,\n\u001b[0;32m   2860\u001b[0m )\n",
      "File \u001b[1;32mc:\\Python311\\Lib\\site-packages\\keras\\src\\utils\\traceback_utils.py:70\u001b[0m, in \u001b[0;36mfilter_traceback.<locals>.error_handler\u001b[1;34m(*args, **kwargs)\u001b[0m\n\u001b[0;32m     67\u001b[0m     filtered_tb \u001b[39m=\u001b[39m _process_traceback_frames(e\u001b[39m.\u001b[39m__traceback__)\n\u001b[0;32m     68\u001b[0m     \u001b[39m# To get the full stack trace, call:\u001b[39;00m\n\u001b[0;32m     69\u001b[0m     \u001b[39m# `tf.debugging.disable_traceback_filtering()`\u001b[39;00m\n\u001b[1;32m---> 70\u001b[0m     \u001b[39mraise\u001b[39;00m e\u001b[39m.\u001b[39mwith_traceback(filtered_tb) \u001b[39mfrom\u001b[39;00m \u001b[39mNone\u001b[39;00m\n\u001b[0;32m     71\u001b[0m \u001b[39mfinally\u001b[39;00m:\n\u001b[0;32m     72\u001b[0m     \u001b[39mdel\u001b[39;00m filtered_tb\n",
      "File \u001b[1;32mc:\\Python311\\Lib\\site-packages\\keras\\src\\engine\\data_adapter.py:1105\u001b[0m, in \u001b[0;36mselect_data_adapter\u001b[1;34m(x, y)\u001b[0m\n\u001b[0;32m   1102\u001b[0m adapter_cls \u001b[39m=\u001b[39m [\u001b[39mcls\u001b[39m \u001b[39mfor\u001b[39;00m \u001b[39mcls\u001b[39m \u001b[39min\u001b[39;00m ALL_ADAPTER_CLS \u001b[39mif\u001b[39;00m \u001b[39mcls\u001b[39m\u001b[39m.\u001b[39mcan_handle(x, y)]\n\u001b[0;32m   1103\u001b[0m \u001b[39mif\u001b[39;00m \u001b[39mnot\u001b[39;00m adapter_cls:\n\u001b[0;32m   1104\u001b[0m     \u001b[39m# TODO(scottzhu): This should be a less implementation-specific error.\u001b[39;00m\n\u001b[1;32m-> 1105\u001b[0m     \u001b[39mraise\u001b[39;00m \u001b[39mValueError\u001b[39;00m(\n\u001b[0;32m   1106\u001b[0m         \u001b[39m\"\u001b[39m\u001b[39mFailed to find data adapter that can handle input: \u001b[39m\u001b[39m{}\u001b[39;00m\u001b[39m, \u001b[39m\u001b[39m{}\u001b[39;00m\u001b[39m\"\u001b[39m\u001b[39m.\u001b[39mformat(\n\u001b[0;32m   1107\u001b[0m             _type_name(x), _type_name(y)\n\u001b[0;32m   1108\u001b[0m         )\n\u001b[0;32m   1109\u001b[0m     )\n\u001b[0;32m   1110\u001b[0m \u001b[39melif\u001b[39;00m \u001b[39mlen\u001b[39m(adapter_cls) \u001b[39m>\u001b[39m \u001b[39m1\u001b[39m:\n\u001b[0;32m   1111\u001b[0m     \u001b[39mraise\u001b[39;00m \u001b[39mRuntimeError\u001b[39;00m(\n\u001b[0;32m   1112\u001b[0m         \u001b[39m\"\u001b[39m\u001b[39mData adapters should be mutually exclusive for \u001b[39m\u001b[39m\"\u001b[39m\n\u001b[0;32m   1113\u001b[0m         \u001b[39m\"\u001b[39m\u001b[39mhandling inputs. Found multiple adapters \u001b[39m\u001b[39m{}\u001b[39;00m\u001b[39m to handle \u001b[39m\u001b[39m\"\u001b[39m\n\u001b[0;32m   1114\u001b[0m         \u001b[39m\"\u001b[39m\u001b[39minput: \u001b[39m\u001b[39m{}\u001b[39;00m\u001b[39m, \u001b[39m\u001b[39m{}\u001b[39;00m\u001b[39m\"\u001b[39m\u001b[39m.\u001b[39mformat(adapter_cls, _type_name(x), _type_name(y))\n\u001b[0;32m   1115\u001b[0m     )\n",
      "\u001b[1;31mValueError\u001b[0m: Failed to find data adapter that can handle input: <class 'keras.src.preprocessing.image.ImageDataGenerator'>, <class 'NoneType'>"
     ]
    }
   ],
   "source": [
    "model.evaluate_generator(test_datagen)"
   ]
  },
  {
   "cell_type": "code",
   "execution_count": null,
   "metadata": {},
   "outputs": [],
   "source": []
  }
 ],
 "metadata": {
  "kernelspec": {
   "display_name": "Python 3",
   "language": "python",
   "name": "python3"
  },
  "language_info": {
   "codemirror_mode": {
    "name": "ipython",
    "version": 3
   },
   "file_extension": ".py",
   "mimetype": "text/x-python",
   "name": "python",
   "nbconvert_exporter": "python",
   "pygments_lexer": "ipython3",
   "version": "3.11.0"
  }
 },
 "nbformat": 4,
 "nbformat_minor": 2
}
